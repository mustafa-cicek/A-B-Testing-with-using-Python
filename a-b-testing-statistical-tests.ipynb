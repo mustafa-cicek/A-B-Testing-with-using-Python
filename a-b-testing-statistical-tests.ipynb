{
 "cells": [
  {
   "cell_type": "markdown",
   "id": "d2b3421d",
   "metadata": {
    "papermill": {
     "duration": 0.034071,
     "end_time": "2021-10-12T19:38:04.607434",
     "exception": false,
     "start_time": "2021-10-12T19:38:04.573363",
     "status": "completed"
    },
    "tags": []
   },
   "source": [
    "<a id=\"section-top\"></a>\n",
    "\n",
    "# Table of Contents\n",
    "\n",
    "**0)** [Introduction](#section-zero)\n",
    "\n",
    "**1)** [Basic Informations about Data](#section-one)\n",
    "\n",
    "**2)** [Basic Visualization & Checking Outliers](#section-two)\n",
    "\n",
    "**3)** [Checking Normality](#section-three)\n",
    "\n",
    "- [Q-Q Plot](#section-three-one)\n",
    "\n",
    "- [Checking Normality with Statistical Tests](#section-three-two)\n",
    "\n",
    "**4)** [Comparing Groups: sum_gamerounds](#section-four)\n",
    "\n",
    "**5)** [Comparing Groups: retention days](#section-five)\n",
    "\n",
    "- [Test Results](#section-five-one)\n",
    "\n",
    "**6)** [Conclusion](#section-six)"
   ]
  },
  {
   "cell_type": "markdown",
   "id": "93ee3983",
   "metadata": {
    "papermill": {
     "duration": 0.031445,
     "end_time": "2021-10-12T19:38:04.674239",
     "exception": false,
     "start_time": "2021-10-12T19:38:04.642794",
     "status": "completed"
    },
    "tags": []
   },
   "source": [
    "<a id=\"section-zero\"></a>\n",
    "# 0. Introduction"
   ]
  },
  {
   "cell_type": "markdown",
   "id": "4b75133a",
   "metadata": {
    "papermill": {
     "duration": 0.031503,
     "end_time": "2021-10-12T19:38:04.737376",
     "exception": false,
     "start_time": "2021-10-12T19:38:04.705873",
     "status": "completed"
    },
    "tags": []
   },
   "source": [
    "In this notebook, I simply apply statistical tests for comparing relations between variables and groups."
   ]
  },
  {
   "cell_type": "markdown",
   "id": "cb86e1a4",
   "metadata": {
    "papermill": {
     "duration": 0.031466,
     "end_time": "2021-10-12T19:38:04.800687",
     "exception": false,
     "start_time": "2021-10-12T19:38:04.769221",
     "status": "completed"
    },
    "tags": []
   },
   "source": [
    "# Project Description\n",
    "Cookie Cats is a hugely popular mobile puzzle game developed by Tactile Entertainment. It's a classic \"connect three\" style puzzle game where the player must connect tiles of the same color in order to clear the board and win the level. It also features singing cats. We're not kidding!\n",
    "\n",
    "As players progress through the game they will encounter gates that force them to wait some time before they can progress or make an in-app purchase. In this project, we will analyze the result of an A/B test where the first gate in Cookie Cats was moved from level 30 to level 40. In particular, we will analyze the impact on player retention.\n",
    "\n",
    "To complete this project, you should be comfortable working with pandas DataFrames and with using the pandas plot method. You should also have some understanding of hypothesis testing and bootstrap analysis.\n",
    "\n",
    "*https://app.datacamp.com/learn/projects/184"
   ]
  },
  {
   "cell_type": "code",
   "execution_count": 1,
   "id": "193f0ca5",
   "metadata": {
    "_cell_guid": "b1076dfc-b9ad-4769-8c92-a6c4dae69d19",
    "_uuid": "8f2839f25d086af736a60e9eeb907d3b93b6e0e5",
    "execution": {
     "iopub.execute_input": "2021-10-12T19:38:04.867580Z",
     "iopub.status.busy": "2021-10-12T19:38:04.866523Z",
     "iopub.status.idle": "2021-10-12T19:38:06.457873Z",
     "shell.execute_reply": "2021-10-12T19:38:06.458945Z",
     "shell.execute_reply.started": "2021-10-12T19:37:18.705252Z"
    },
    "papermill": {
     "duration": 1.627124,
     "end_time": "2021-10-12T19:38:06.459338",
     "exception": false,
     "start_time": "2021-10-12T19:38:04.832214",
     "status": "completed"
    },
    "tags": []
   },
   "outputs": [],
   "source": [
    "import pandas as pd\n",
    "import numpy as np\n",
    "import seaborn as sns\n",
    "import matplotlib.pyplot as plt\n",
    "from scipy import stats\n",
    "import statsmodels.api as sm\n",
    "\n",
    "import warnings"
   ]
  },
  {
   "cell_type": "markdown",
   "id": "987e2b9a",
   "metadata": {
    "papermill": {
     "duration": 0.047187,
     "end_time": "2021-10-12T19:38:06.550418",
     "exception": false,
     "start_time": "2021-10-12T19:38:06.503231",
     "status": "completed"
    },
    "tags": []
   },
   "source": [
    "[take me to the top](#section-top)"
   ]
  },
  {
   "cell_type": "markdown",
   "id": "4972d6ef",
   "metadata": {
    "papermill": {
     "duration": 0.030912,
     "end_time": "2021-10-12T19:38:06.612813",
     "exception": false,
     "start_time": "2021-10-12T19:38:06.581901",
     "status": "completed"
    },
    "tags": []
   },
   "source": [
    "<a id=\"section-one\"></a>\n",
    "\n",
    "# 1. Basic Informations about Data"
   ]
  },
  {
   "cell_type": "code",
   "execution_count": 2,
   "id": "0d3f71de",
   "metadata": {
    "execution": {
     "iopub.execute_input": "2021-10-12T19:38:06.680818Z",
     "iopub.status.busy": "2021-10-12T19:38:06.680165Z",
     "iopub.status.idle": "2021-10-12T19:38:06.790180Z",
     "shell.execute_reply": "2021-10-12T19:38:06.790658Z",
     "shell.execute_reply.started": "2021-10-12T19:37:20.294901Z"
    },
    "papermill": {
     "duration": 0.146805,
     "end_time": "2021-10-12T19:38:06.790824",
     "exception": false,
     "start_time": "2021-10-12T19:38:06.644019",
     "status": "completed"
    },
    "tags": []
   },
   "outputs": [
    {
     "name": "stdout",
     "output_type": "stream",
     "text": [
      "(90189, 5) \n",
      "\n"
     ]
    },
    {
     "data": {
      "text/html": [
       "<div>\n",
       "<style scoped>\n",
       "    .dataframe tbody tr th:only-of-type {\n",
       "        vertical-align: middle;\n",
       "    }\n",
       "\n",
       "    .dataframe tbody tr th {\n",
       "        vertical-align: top;\n",
       "    }\n",
       "\n",
       "    .dataframe thead th {\n",
       "        text-align: right;\n",
       "    }\n",
       "</style>\n",
       "<table border=\"1\" class=\"dataframe\">\n",
       "  <thead>\n",
       "    <tr style=\"text-align: right;\">\n",
       "      <th></th>\n",
       "      <th>userid</th>\n",
       "      <th>version</th>\n",
       "      <th>sum_gamerounds</th>\n",
       "      <th>retention_1</th>\n",
       "      <th>retention_7</th>\n",
       "    </tr>\n",
       "  </thead>\n",
       "  <tbody>\n",
       "    <tr>\n",
       "      <th>0</th>\n",
       "      <td>116</td>\n",
       "      <td>gate_30</td>\n",
       "      <td>3</td>\n",
       "      <td>False</td>\n",
       "      <td>False</td>\n",
       "    </tr>\n",
       "    <tr>\n",
       "      <th>1</th>\n",
       "      <td>337</td>\n",
       "      <td>gate_30</td>\n",
       "      <td>38</td>\n",
       "      <td>True</td>\n",
       "      <td>False</td>\n",
       "    </tr>\n",
       "    <tr>\n",
       "      <th>2</th>\n",
       "      <td>377</td>\n",
       "      <td>gate_40</td>\n",
       "      <td>165</td>\n",
       "      <td>True</td>\n",
       "      <td>False</td>\n",
       "    </tr>\n",
       "    <tr>\n",
       "      <th>3</th>\n",
       "      <td>483</td>\n",
       "      <td>gate_40</td>\n",
       "      <td>1</td>\n",
       "      <td>False</td>\n",
       "      <td>False</td>\n",
       "    </tr>\n",
       "    <tr>\n",
       "      <th>4</th>\n",
       "      <td>488</td>\n",
       "      <td>gate_40</td>\n",
       "      <td>179</td>\n",
       "      <td>True</td>\n",
       "      <td>True</td>\n",
       "    </tr>\n",
       "  </tbody>\n",
       "</table>\n",
       "</div>"
      ],
      "text/plain": [
       "   userid  version  sum_gamerounds  retention_1  retention_7\n",
       "0     116  gate_30               3        False        False\n",
       "1     337  gate_30              38         True        False\n",
       "2     377  gate_40             165         True        False\n",
       "3     483  gate_40               1        False        False\n",
       "4     488  gate_40             179         True         True"
      ]
     },
     "metadata": {},
     "output_type": "display_data"
    }
   ],
   "source": [
    "df = pd.read_csv(\"../input/mobile-games-ab-testing/cookie_cats.csv\")\n",
    "\n",
    "print(df.shape, \"\\n\")\n",
    "\n",
    "display(df.head())"
   ]
  },
  {
   "cell_type": "markdown",
   "id": "1036a497",
   "metadata": {
    "papermill": {
     "duration": 0.032157,
     "end_time": "2021-10-12T19:38:06.855673",
     "exception": false,
     "start_time": "2021-10-12T19:38:06.823516",
     "status": "completed"
    },
    "tags": []
   },
   "source": [
    "# Variables\n",
    "- **userid** - a unique number that identifies each player.\n",
    "- **version** - whether the player was put in the control group (gate_30 - a gate at level 30) or the test group (gate_40 - a gate at level 40).\n",
    "- **sum_gamerounds** - the number of game rounds played by the player during the first week after installation\n",
    "- **retention_1** - did the player come back and play 1 day after installing?\n",
    "- **retention_7** - did the player come back and play 7 days after installing?\n",
    "\n",
    "*https://www.kaggle.com/yufengsui/datacamp-project-mobile-games-a-b-testing"
   ]
  },
  {
   "cell_type": "code",
   "execution_count": 3,
   "id": "f4e42a45",
   "metadata": {
    "execution": {
     "iopub.execute_input": "2021-10-12T19:38:06.923916Z",
     "iopub.status.busy": "2021-10-12T19:38:06.923036Z",
     "iopub.status.idle": "2021-10-12T19:38:06.949087Z",
     "shell.execute_reply": "2021-10-12T19:38:06.949594Z",
     "shell.execute_reply.started": "2021-10-12T19:37:20.427143Z"
    },
    "papermill": {
     "duration": 0.061869,
     "end_time": "2021-10-12T19:38:06.949762",
     "exception": false,
     "start_time": "2021-10-12T19:38:06.887893",
     "status": "completed"
    },
    "tags": []
   },
   "outputs": [
    {
     "name": "stdout",
     "output_type": "stream",
     "text": [
      "<class 'pandas.core.frame.DataFrame'>\n",
      "RangeIndex: 90189 entries, 0 to 90188\n",
      "Data columns (total 5 columns):\n",
      " #   Column          Non-Null Count  Dtype \n",
      "---  ------          --------------  ----- \n",
      " 0   userid          90189 non-null  int64 \n",
      " 1   version         90189 non-null  object\n",
      " 2   sum_gamerounds  90189 non-null  int64 \n",
      " 3   retention_1     90189 non-null  bool  \n",
      " 4   retention_7     90189 non-null  bool  \n",
      "dtypes: bool(2), int64(2), object(1)\n",
      "memory usage: 2.2+ MB\n"
     ]
    }
   ],
   "source": [
    "df.info()"
   ]
  },
  {
   "cell_type": "code",
   "execution_count": 4,
   "id": "89c1afaa",
   "metadata": {
    "execution": {
     "iopub.execute_input": "2021-10-12T19:38:07.018035Z",
     "iopub.status.busy": "2021-10-12T19:38:07.017444Z",
     "iopub.status.idle": "2021-10-12T19:38:07.055694Z",
     "shell.execute_reply": "2021-10-12T19:38:07.055211Z",
     "shell.execute_reply.started": "2021-10-12T19:37:20.461868Z"
    },
    "papermill": {
     "duration": 0.073682,
     "end_time": "2021-10-12T19:38:07.055835",
     "exception": false,
     "start_time": "2021-10-12T19:38:06.982153",
     "status": "completed"
    },
    "tags": []
   },
   "outputs": [
    {
     "data": {
      "text/html": [
       "<div>\n",
       "<style scoped>\n",
       "    .dataframe tbody tr th:only-of-type {\n",
       "        vertical-align: middle;\n",
       "    }\n",
       "\n",
       "    .dataframe tbody tr th {\n",
       "        vertical-align: top;\n",
       "    }\n",
       "\n",
       "    .dataframe thead th {\n",
       "        text-align: right;\n",
       "    }\n",
       "</style>\n",
       "<table border=\"1\" class=\"dataframe\">\n",
       "  <thead>\n",
       "    <tr style=\"text-align: right;\">\n",
       "      <th></th>\n",
       "      <th>userid</th>\n",
       "      <th>version</th>\n",
       "      <th>sum_gamerounds</th>\n",
       "      <th>retention_1</th>\n",
       "      <th>retention_7</th>\n",
       "    </tr>\n",
       "  </thead>\n",
       "  <tbody>\n",
       "    <tr>\n",
       "      <th>count</th>\n",
       "      <td>9.018900e+04</td>\n",
       "      <td>90189</td>\n",
       "      <td>90189.000000</td>\n",
       "      <td>90189</td>\n",
       "      <td>90189</td>\n",
       "    </tr>\n",
       "    <tr>\n",
       "      <th>unique</th>\n",
       "      <td>NaN</td>\n",
       "      <td>2</td>\n",
       "      <td>NaN</td>\n",
       "      <td>2</td>\n",
       "      <td>2</td>\n",
       "    </tr>\n",
       "    <tr>\n",
       "      <th>top</th>\n",
       "      <td>NaN</td>\n",
       "      <td>gate_40</td>\n",
       "      <td>NaN</td>\n",
       "      <td>False</td>\n",
       "      <td>False</td>\n",
       "    </tr>\n",
       "    <tr>\n",
       "      <th>freq</th>\n",
       "      <td>NaN</td>\n",
       "      <td>45489</td>\n",
       "      <td>NaN</td>\n",
       "      <td>50036</td>\n",
       "      <td>73408</td>\n",
       "    </tr>\n",
       "    <tr>\n",
       "      <th>mean</th>\n",
       "      <td>4.998412e+06</td>\n",
       "      <td>NaN</td>\n",
       "      <td>51.872457</td>\n",
       "      <td>NaN</td>\n",
       "      <td>NaN</td>\n",
       "    </tr>\n",
       "    <tr>\n",
       "      <th>std</th>\n",
       "      <td>2.883286e+06</td>\n",
       "      <td>NaN</td>\n",
       "      <td>195.050858</td>\n",
       "      <td>NaN</td>\n",
       "      <td>NaN</td>\n",
       "    </tr>\n",
       "    <tr>\n",
       "      <th>min</th>\n",
       "      <td>1.160000e+02</td>\n",
       "      <td>NaN</td>\n",
       "      <td>0.000000</td>\n",
       "      <td>NaN</td>\n",
       "      <td>NaN</td>\n",
       "    </tr>\n",
       "    <tr>\n",
       "      <th>25%</th>\n",
       "      <td>2.512230e+06</td>\n",
       "      <td>NaN</td>\n",
       "      <td>5.000000</td>\n",
       "      <td>NaN</td>\n",
       "      <td>NaN</td>\n",
       "    </tr>\n",
       "    <tr>\n",
       "      <th>50%</th>\n",
       "      <td>4.995815e+06</td>\n",
       "      <td>NaN</td>\n",
       "      <td>16.000000</td>\n",
       "      <td>NaN</td>\n",
       "      <td>NaN</td>\n",
       "    </tr>\n",
       "    <tr>\n",
       "      <th>75%</th>\n",
       "      <td>7.496452e+06</td>\n",
       "      <td>NaN</td>\n",
       "      <td>51.000000</td>\n",
       "      <td>NaN</td>\n",
       "      <td>NaN</td>\n",
       "    </tr>\n",
       "    <tr>\n",
       "      <th>max</th>\n",
       "      <td>9.999861e+06</td>\n",
       "      <td>NaN</td>\n",
       "      <td>49854.000000</td>\n",
       "      <td>NaN</td>\n",
       "      <td>NaN</td>\n",
       "    </tr>\n",
       "  </tbody>\n",
       "</table>\n",
       "</div>"
      ],
      "text/plain": [
       "              userid  version  sum_gamerounds retention_1 retention_7\n",
       "count   9.018900e+04    90189    90189.000000       90189       90189\n",
       "unique           NaN        2             NaN           2           2\n",
       "top              NaN  gate_40             NaN       False       False\n",
       "freq             NaN    45489             NaN       50036       73408\n",
       "mean    4.998412e+06      NaN       51.872457         NaN         NaN\n",
       "std     2.883286e+06      NaN      195.050858         NaN         NaN\n",
       "min     1.160000e+02      NaN        0.000000         NaN         NaN\n",
       "25%     2.512230e+06      NaN        5.000000         NaN         NaN\n",
       "50%     4.995815e+06      NaN       16.000000         NaN         NaN\n",
       "75%     7.496452e+06      NaN       51.000000         NaN         NaN\n",
       "max     9.999861e+06      NaN    49854.000000         NaN         NaN"
      ]
     },
     "execution_count": 4,
     "metadata": {},
     "output_type": "execute_result"
    }
   ],
   "source": [
    "df.describe(include = \"all\")"
   ]
  },
  {
   "cell_type": "code",
   "execution_count": 5,
   "id": "ba38f85a",
   "metadata": {
    "execution": {
     "iopub.execute_input": "2021-10-12T19:38:07.131998Z",
     "iopub.status.busy": "2021-10-12T19:38:07.127077Z",
     "iopub.status.idle": "2021-10-12T19:38:07.137853Z",
     "shell.execute_reply": "2021-10-12T19:38:07.137330Z",
     "shell.execute_reply.started": "2021-10-12T19:37:20.514946Z"
    },
    "papermill": {
     "duration": 0.049001,
     "end_time": "2021-10-12T19:38:07.137990",
     "exception": false,
     "start_time": "2021-10-12T19:38:07.088989",
     "status": "completed"
    },
    "tags": []
   },
   "outputs": [
    {
     "data": {
      "text/plain": [
       "0"
      ]
     },
     "execution_count": 5,
     "metadata": {},
     "output_type": "execute_result"
    }
   ],
   "source": [
    "df.isnull().sum().sum()"
   ]
  },
  {
   "cell_type": "code",
   "execution_count": 6,
   "id": "81ad5a7f",
   "metadata": {
    "execution": {
     "iopub.execute_input": "2021-10-12T19:38:07.210844Z",
     "iopub.status.busy": "2021-10-12T19:38:07.209502Z",
     "iopub.status.idle": "2021-10-12T19:38:07.220005Z",
     "shell.execute_reply": "2021-10-12T19:38:07.220431Z",
     "shell.execute_reply.started": "2021-10-12T19:37:20.534573Z"
    },
    "papermill": {
     "duration": 0.048271,
     "end_time": "2021-10-12T19:38:07.220612",
     "exception": false,
     "start_time": "2021-10-12T19:38:07.172341",
     "status": "completed"
    },
    "tags": []
   },
   "outputs": [
    {
     "data": {
      "text/html": [
       "<div>\n",
       "<style scoped>\n",
       "    .dataframe tbody tr th:only-of-type {\n",
       "        vertical-align: middle;\n",
       "    }\n",
       "\n",
       "    .dataframe tbody tr th {\n",
       "        vertical-align: top;\n",
       "    }\n",
       "\n",
       "    .dataframe thead th {\n",
       "        text-align: right;\n",
       "    }\n",
       "</style>\n",
       "<table border=\"1\" class=\"dataframe\">\n",
       "  <thead>\n",
       "    <tr style=\"text-align: right;\">\n",
       "      <th></th>\n",
       "      <th>userid</th>\n",
       "      <th>version</th>\n",
       "      <th>sum_gamerounds</th>\n",
       "      <th>retention_1</th>\n",
       "      <th>retention_7</th>\n",
       "    </tr>\n",
       "  </thead>\n",
       "  <tbody>\n",
       "  </tbody>\n",
       "</table>\n",
       "</div>"
      ],
      "text/plain": [
       "Empty DataFrame\n",
       "Columns: [userid, version, sum_gamerounds, retention_1, retention_7]\n",
       "Index: []"
      ]
     },
     "execution_count": 6,
     "metadata": {},
     "output_type": "execute_result"
    }
   ],
   "source": [
    "df[df.userid.duplicated()]"
   ]
  },
  {
   "cell_type": "markdown",
   "id": "19f1c5e4",
   "metadata": {
    "papermill": {
     "duration": 0.033884,
     "end_time": "2021-10-12T19:38:07.289485",
     "exception": false,
     "start_time": "2021-10-12T19:38:07.255601",
     "status": "completed"
    },
    "tags": []
   },
   "source": [
    "[take me to the top](#section-top)"
   ]
  },
  {
   "cell_type": "markdown",
   "id": "1ae16120",
   "metadata": {
    "papermill": {
     "duration": 0.033773,
     "end_time": "2021-10-12T19:38:07.357212",
     "exception": false,
     "start_time": "2021-10-12T19:38:07.323439",
     "status": "completed"
    },
    "tags": []
   },
   "source": [
    "<a id=\"section-two\"></a>\n",
    "# 2. Basic Visualization & Checking Outliers"
   ]
  },
  {
   "cell_type": "markdown",
   "id": "4c359ac2",
   "metadata": {
    "papermill": {
     "duration": 0.0337,
     "end_time": "2021-10-12T19:38:07.424757",
     "exception": false,
     "start_time": "2021-10-12T19:38:07.391057",
     "status": "completed"
    },
    "tags": []
   },
   "source": [
    "In this problem, we have an extreme outlier that can be hurt our analysis. Let's examine it."
   ]
  },
  {
   "cell_type": "code",
   "execution_count": 7,
   "id": "30ce9c0e",
   "metadata": {
    "execution": {
     "iopub.execute_input": "2021-10-12T19:38:07.495190Z",
     "iopub.status.busy": "2021-10-12T19:38:07.494650Z",
     "iopub.status.idle": "2021-10-12T19:38:07.528216Z",
     "shell.execute_reply": "2021-10-12T19:38:07.528698Z",
     "shell.execute_reply.started": "2021-10-12T19:37:20.548627Z"
    },
    "papermill": {
     "duration": 0.07034,
     "end_time": "2021-10-12T19:38:07.528858",
     "exception": false,
     "start_time": "2021-10-12T19:38:07.458518",
     "status": "completed"
    },
    "tags": []
   },
   "outputs": [
    {
     "data": {
      "text/html": [
       "<div>\n",
       "<style scoped>\n",
       "    .dataframe tbody tr th:only-of-type {\n",
       "        vertical-align: middle;\n",
       "    }\n",
       "\n",
       "    .dataframe tbody tr th {\n",
       "        vertical-align: top;\n",
       "    }\n",
       "\n",
       "    .dataframe thead th {\n",
       "        text-align: right;\n",
       "    }\n",
       "</style>\n",
       "<table border=\"1\" class=\"dataframe\">\n",
       "  <thead>\n",
       "    <tr style=\"text-align: right;\">\n",
       "      <th></th>\n",
       "      <th>count</th>\n",
       "      <th>mean</th>\n",
       "      <th>std</th>\n",
       "      <th>min</th>\n",
       "      <th>25%</th>\n",
       "      <th>50%</th>\n",
       "      <th>75%</th>\n",
       "      <th>max</th>\n",
       "    </tr>\n",
       "    <tr>\n",
       "      <th>version</th>\n",
       "      <th></th>\n",
       "      <th></th>\n",
       "      <th></th>\n",
       "      <th></th>\n",
       "      <th></th>\n",
       "      <th></th>\n",
       "      <th></th>\n",
       "      <th></th>\n",
       "    </tr>\n",
       "  </thead>\n",
       "  <tbody>\n",
       "    <tr>\n",
       "      <th>gate_30</th>\n",
       "      <td>44700.0</td>\n",
       "      <td>52.456</td>\n",
       "      <td>256.716</td>\n",
       "      <td>0.0</td>\n",
       "      <td>5.0</td>\n",
       "      <td>17.0</td>\n",
       "      <td>50.0</td>\n",
       "      <td>49854.0</td>\n",
       "    </tr>\n",
       "    <tr>\n",
       "      <th>gate_40</th>\n",
       "      <td>45489.0</td>\n",
       "      <td>51.299</td>\n",
       "      <td>103.294</td>\n",
       "      <td>0.0</td>\n",
       "      <td>5.0</td>\n",
       "      <td>16.0</td>\n",
       "      <td>52.0</td>\n",
       "      <td>2640.0</td>\n",
       "    </tr>\n",
       "  </tbody>\n",
       "</table>\n",
       "</div>"
      ],
      "text/plain": [
       "           count    mean      std  min  25%   50%   75%      max\n",
       "version                                                         \n",
       "gate_30  44700.0  52.456  256.716  0.0  5.0  17.0  50.0  49854.0\n",
       "gate_40  45489.0  51.299  103.294  0.0  5.0  16.0  52.0   2640.0"
      ]
     },
     "execution_count": 7,
     "metadata": {},
     "output_type": "execute_result"
    }
   ],
   "source": [
    "df.groupby(\"version\").sum_gamerounds.describe().round(3)"
   ]
  },
  {
   "cell_type": "markdown",
   "id": "0cae6501",
   "metadata": {
    "papermill": {
     "duration": 0.034912,
     "end_time": "2021-10-12T19:38:07.597904",
     "exception": false,
     "start_time": "2021-10-12T19:38:07.562992",
     "status": "completed"
    },
    "tags": []
   },
   "source": [
    "Here, we can see, for gate_30 version, 75% quantile is 50 and, our max value for this series is nearly 50k. It could be an typo, we should remove it."
   ]
  },
  {
   "cell_type": "code",
   "execution_count": 8,
   "id": "a8d09311",
   "metadata": {
    "execution": {
     "iopub.execute_input": "2021-10-12T19:38:07.671129Z",
     "iopub.status.busy": "2021-10-12T19:38:07.670463Z",
     "iopub.status.idle": "2021-10-12T19:38:08.635853Z",
     "shell.execute_reply": "2021-10-12T19:38:08.636266Z",
     "shell.execute_reply.started": "2021-10-12T19:37:20.591499Z"
    },
    "papermill": {
     "duration": 1.003387,
     "end_time": "2021-10-12T19:38:08.636441",
     "exception": false,
     "start_time": "2021-10-12T19:38:07.633054",
     "status": "completed"
    },
    "tags": []
   },
   "outputs": [
    {
     "data": {
      "image/png": "[encoded data removed]",
      "text/plain": [
       "<Figure size 864x576 with 1 Axes>"
      ]
     },
     "metadata": {},
     "output_type": "display_data"
    }
   ],
   "source": [
    "fig, ax = plt.subplots(figsize = (12, 8), facecolor = \"#e5e5e5\")\n",
    "ax.set_facecolor(\"#e5e5e5\")\n",
    "\n",
    "sns.kdeplot(data = df, x = \"sum_gamerounds\", ax = ax, hue = \"version\", alpha = 0.2, fill = True)\n",
    "plt.show()"
   ]
  },
  {
   "cell_type": "markdown",
   "id": "a64b389a",
   "metadata": {
    "papermill": {
     "duration": 0.034417,
     "end_time": "2021-10-12T19:38:08.705993",
     "exception": false,
     "start_time": "2021-10-12T19:38:08.671576",
     "status": "completed"
    },
    "tags": []
   },
   "source": [
    "Above graph is sum_gamerounds distribution for version. Outlier makes our plot unclear."
   ]
  },
  {
   "cell_type": "code",
   "execution_count": 9,
   "id": "2bdeae62",
   "metadata": {
    "execution": {
     "iopub.execute_input": "2021-10-12T19:38:08.779682Z",
     "iopub.status.busy": "2021-10-12T19:38:08.778968Z",
     "iopub.status.idle": "2021-10-12T19:38:08.797803Z",
     "shell.execute_reply": "2021-10-12T19:38:08.798251Z",
     "shell.execute_reply.started": "2021-10-12T19:37:21.663515Z"
    },
    "papermill": {
     "duration": 0.057385,
     "end_time": "2021-10-12T19:38:08.798412",
     "exception": false,
     "start_time": "2021-10-12T19:38:08.741027",
     "status": "completed"
    },
    "tags": []
   },
   "outputs": [
    {
     "data": {
      "text/html": [
       "<div>\n",
       "<style scoped>\n",
       "    .dataframe tbody tr th:only-of-type {\n",
       "        vertical-align: middle;\n",
       "    }\n",
       "\n",
       "    .dataframe tbody tr th {\n",
       "        vertical-align: top;\n",
       "    }\n",
       "\n",
       "    .dataframe thead th {\n",
       "        text-align: right;\n",
       "    }\n",
       "</style>\n",
       "<table border=\"1\" class=\"dataframe\">\n",
       "  <thead>\n",
       "    <tr style=\"text-align: right;\">\n",
       "      <th></th>\n",
       "      <th>userid</th>\n",
       "      <th>version</th>\n",
       "      <th>sum_gamerounds</th>\n",
       "      <th>retention_1</th>\n",
       "      <th>retention_7</th>\n",
       "    </tr>\n",
       "  </thead>\n",
       "  <tbody>\n",
       "    <tr>\n",
       "      <th>57702</th>\n",
       "      <td>6390605</td>\n",
       "      <td>gate_30</td>\n",
       "      <td>49854</td>\n",
       "      <td>False</td>\n",
       "      <td>True</td>\n",
       "    </tr>\n",
       "    <tr>\n",
       "      <th>7912</th>\n",
       "      <td>871500</td>\n",
       "      <td>gate_30</td>\n",
       "      <td>2961</td>\n",
       "      <td>True</td>\n",
       "      <td>True</td>\n",
       "    </tr>\n",
       "    <tr>\n",
       "      <th>29417</th>\n",
       "      <td>3271615</td>\n",
       "      <td>gate_40</td>\n",
       "      <td>2640</td>\n",
       "      <td>True</td>\n",
       "      <td>False</td>\n",
       "    </tr>\n",
       "    <tr>\n",
       "      <th>43671</th>\n",
       "      <td>4832608</td>\n",
       "      <td>gate_30</td>\n",
       "      <td>2438</td>\n",
       "      <td>True</td>\n",
       "      <td>True</td>\n",
       "    </tr>\n",
       "    <tr>\n",
       "      <th>48188</th>\n",
       "      <td>5346171</td>\n",
       "      <td>gate_40</td>\n",
       "      <td>2294</td>\n",
       "      <td>True</td>\n",
       "      <td>True</td>\n",
       "    </tr>\n",
       "  </tbody>\n",
       "</table>\n",
       "</div>"
      ],
      "text/plain": [
       "        userid  version  sum_gamerounds  retention_1  retention_7\n",
       "57702  6390605  gate_30           49854        False         True\n",
       "7912    871500  gate_30            2961         True         True\n",
       "29417  3271615  gate_40            2640         True        False\n",
       "43671  4832608  gate_30            2438         True         True\n",
       "48188  5346171  gate_40            2294         True         True"
      ]
     },
     "execution_count": 9,
     "metadata": {},
     "output_type": "execute_result"
    }
   ],
   "source": [
    "df.sort_values(\"sum_gamerounds\", ascending = False).head()"
   ]
  },
  {
   "cell_type": "code",
   "execution_count": 10,
   "id": "04ebbed5",
   "metadata": {
    "execution": {
     "iopub.execute_input": "2021-10-12T19:38:08.871949Z",
     "iopub.status.busy": "2021-10-12T19:38:08.871336Z",
     "iopub.status.idle": "2021-10-12T19:38:08.881181Z",
     "shell.execute_reply": "2021-10-12T19:38:08.881584Z",
     "shell.execute_reply.started": "2021-10-12T19:37:21.689260Z"
    },
    "papermill": {
     "duration": 0.048068,
     "end_time": "2021-10-12T19:38:08.881751",
     "exception": false,
     "start_time": "2021-10-12T19:38:08.833683",
     "status": "completed"
    },
    "tags": []
   },
   "outputs": [
    {
     "name": "stdout",
     "output_type": "stream",
     "text": [
      "Total observations before removing outlier(s?) 90189\n",
      "\n",
      "Total observations after removing outlier(s?) 90188\n"
     ]
    }
   ],
   "source": [
    "print(f\"Total observations before removing outlier(s?) {df.shape[0]}\")\n",
    "\n",
    "df = df[df.sum_gamerounds < 3000]\n",
    "\n",
    "print(f\"\\nTotal observations after removing outlier(s?) {df.shape[0]}\")"
   ]
  },
  {
   "cell_type": "code",
   "execution_count": 11,
   "id": "dbb7b82c",
   "metadata": {
    "execution": {
     "iopub.execute_input": "2021-10-12T19:38:08.957329Z",
     "iopub.status.busy": "2021-10-12T19:38:08.956756Z",
     "iopub.status.idle": "2021-10-12T19:38:09.758521Z",
     "shell.execute_reply": "2021-10-12T19:38:09.758084Z",
     "shell.execute_reply.started": "2021-10-12T19:37:21.700032Z"
    },
    "papermill": {
     "duration": 0.841008,
     "end_time": "2021-10-12T19:38:09.758676",
     "exception": false,
     "start_time": "2021-10-12T19:38:08.917668",
     "status": "completed"
    },
    "tags": []
   },
   "outputs": [
    {
     "data": {
      "image/png": "[encoded data removed]",
      "text/plain": [
       "<Figure size 864x576 with 1 Axes>"
      ]
     },
     "metadata": {},
     "output_type": "display_data"
    }
   ],
   "source": [
    "fig, ax = plt.subplots(figsize = (12, 8), facecolor = \"#e5e5e5\")\n",
    "ax.set_facecolor(\"#e5e5e5\")\n",
    "\n",
    "sns.kdeplot(data = df, x = \"sum_gamerounds\", ax = ax, \n",
    "            palette = [\"#0EB8F1\", \"#F1480F\"], hue = \"version\", alpha = 0.1, fill = True)\n",
    "\n",
    "plt.show()"
   ]
  },
  {
   "cell_type": "markdown",
   "id": "7a3dac0e",
   "metadata": {
    "papermill": {
     "duration": 0.036436,
     "end_time": "2021-10-12T19:38:09.832134",
     "exception": false,
     "start_time": "2021-10-12T19:38:09.795698",
     "status": "completed"
    },
    "tags": []
   },
   "source": [
    "After removing that outlier, our grap is more understandable. Basically, sum_gamerounds distribution for gate 30 and gate 40 versions are similar. Most of sum_gamerounds is between 0-250. The distribution is right skewed."
   ]
  },
  {
   "cell_type": "code",
   "execution_count": 12,
   "id": "9f91e60f",
   "metadata": {
    "execution": {
     "iopub.execute_input": "2021-10-12T19:38:09.937776Z",
     "iopub.status.busy": "2021-10-12T19:38:09.916790Z",
     "iopub.status.idle": "2021-10-12T19:38:10.411768Z",
     "shell.execute_reply": "2021-10-12T19:38:10.412250Z",
     "shell.execute_reply.started": "2021-10-12T19:37:22.558598Z"
    },
    "papermill": {
     "duration": 0.543653,
     "end_time": "2021-10-12T19:38:10.412420",
     "exception": false,
     "start_time": "2021-10-12T19:38:09.868767",
     "status": "completed"
    },
    "tags": []
   },
   "outputs": [
    {
     "data": {
      "text/plain": [
       "<AxesSubplot:ylabel='sum_gamerounds'>"
      ]
     },
     "execution_count": 12,
     "metadata": {},
     "output_type": "execute_result"
    },
    {
     "data": {
      "image/png": "[encoded data removed]",
      "text/plain": [
       "<Figure size 864x576 with 1 Axes>"
      ]
     },
     "metadata": {},
     "output_type": "display_data"
    }
   ],
   "source": [
    "fig, ax = plt.subplots(figsize = (12, 8), facecolor = \"#e5e5e5\")\n",
    "ax.set_facecolor(\"#e5e5e5\")\n",
    "\n",
    "sns.boxplot(data = df, y = \"sum_gamerounds\", hue = \"version\", \n",
    "            ax = ax, x = [\"\"] * len(df), \n",
    "            palette = [\"#0EB8F1\", \"#F1480F\"], linewidth = 0.5, \n",
    "            flierprops = dict(marker = \"x\", markersize = 3.5))"
   ]
  },
  {
   "cell_type": "markdown",
   "id": "f3028c32",
   "metadata": {
    "papermill": {
     "duration": 0.037636,
     "end_time": "2021-10-12T19:38:10.488061",
     "exception": false,
     "start_time": "2021-10-12T19:38:10.450425",
     "status": "completed"
    },
    "tags": []
   },
   "source": [
    "[take me to the top](#section-top)"
   ]
  },
  {
   "cell_type": "markdown",
   "id": "3f4698be",
   "metadata": {
    "papermill": {
     "duration": 0.038753,
     "end_time": "2021-10-12T19:38:10.564411",
     "exception": false,
     "start_time": "2021-10-12T19:38:10.525658",
     "status": "completed"
    },
    "tags": []
   },
   "source": [
    "<a id=\"section-three\"></a>\n",
    "# 3. Checking Normality"
   ]
  },
  {
   "cell_type": "markdown",
   "id": "6c5a3058",
   "metadata": {
    "papermill": {
     "duration": 0.038387,
     "end_time": "2021-10-12T19:38:10.641487",
     "exception": false,
     "start_time": "2021-10-12T19:38:10.603100",
     "status": "completed"
    },
    "tags": []
   },
   "source": [
    "<a id=\"section-three-one\"></a>\n",
    "## 3.1 Q-Q Plot for Normality"
   ]
  },
  {
   "cell_type": "markdown",
   "id": "4f08e48c",
   "metadata": {
    "papermill": {
     "duration": 0.03841,
     "end_time": "2021-10-12T19:38:10.718377",
     "exception": false,
     "start_time": "2021-10-12T19:38:10.679967",
     "status": "completed"
    },
    "tags": []
   },
   "source": [
    "Q-Q plot shortly shows distribution of our data points against expected normal distribution.\n",
    "\n",
    "If it is normal, values are near the 45° line."
   ]
  },
  {
   "cell_type": "markdown",
   "id": "394ae7ac",
   "metadata": {
    "papermill": {
     "duration": 0.03815,
     "end_time": "2021-10-12T19:38:10.795340",
     "exception": false,
     "start_time": "2021-10-12T19:38:10.757190",
     "status": "completed"
    },
    "tags": []
   },
   "source": [
    "For better understand, we have 9 qq-plot that belong to 9 different normal distributed series, created with numpy's random generator. Series are same mu and sigma, 0 and 1."
   ]
  },
  {
   "cell_type": "code",
   "execution_count": 13,
   "id": "9b5a34b1",
   "metadata": {
    "execution": {
     "iopub.execute_input": "2021-10-12T19:38:10.880739Z",
     "iopub.status.busy": "2021-10-12T19:38:10.880125Z",
     "iopub.status.idle": "2021-10-12T19:38:12.072358Z",
     "shell.execute_reply": "2021-10-12T19:38:12.071871Z",
     "shell.execute_reply.started": "2021-10-12T19:37:23.240277Z"
    },
    "papermill": {
     "duration": 1.238413,
     "end_time": "2021-10-12T19:38:12.072486",
     "exception": false,
     "start_time": "2021-10-12T19:38:10.834073",
     "status": "completed"
    },
    "tags": []
   },
   "outputs": [
    {
     "data": {
      "image/png": "[encoded data removed]",
      "text/plain": [
       "<Figure size 1080x648 with 9 Axes>"
      ]
     },
     "metadata": {},
     "output_type": "display_data"
    }
   ],
   "source": [
    "fig = plt.figure(1, figsize=(15, 9), facecolor = \"#E5E5E5\")\n",
    "\n",
    "for i in range(1, 10):\n",
    "    \n",
    "    normal_series = np.random.normal(0, 1, 1000)\n",
    "    \n",
    "    ax = fig.add_subplot(3, 3, i)\n",
    "    \n",
    "    with warnings.catch_warnings():\n",
    "        \n",
    "        warnings.simplefilter(\"ignore\")\n",
    "        sm.qqplot(normal_series, ax = ax, marker = \"x\", line = \"45\", fit = True)  \n",
    "        \n",
    "    ax.set_facecolor(\"#e5e5e5\")\n",
    "\n",
    "plt.tight_layout()\n",
    "plt.show()"
   ]
  },
  {
   "cell_type": "markdown",
   "id": "47ba2005",
   "metadata": {
    "papermill": {
     "duration": 0.040619,
     "end_time": "2021-10-12T19:38:12.154528",
     "exception": false,
     "start_time": "2021-10-12T19:38:12.113909",
     "status": "completed"
    },
    "tags": []
   },
   "source": [
    "As you can see, the values are lie over the straight line. If we have normal distributed data, we expect that behaivor."
   ]
  },
  {
   "cell_type": "markdown",
   "id": "062f6a71",
   "metadata": {
    "papermill": {
     "duration": 0.040951,
     "end_time": "2021-10-12T19:38:12.236422",
     "exception": false,
     "start_time": "2021-10-12T19:38:12.195471",
     "status": "completed"
    },
    "tags": []
   },
   "source": [
    "In our example, sum_gamerounds variable has right skewed distribution. We already interpret that its distribution is not normal, but let's see its qq-plot."
   ]
  },
  {
   "cell_type": "code",
   "execution_count": 14,
   "id": "06e0daca",
   "metadata": {
    "execution": {
     "iopub.execute_input": "2021-10-12T19:38:12.322204Z",
     "iopub.status.busy": "2021-10-12T19:38:12.321595Z",
     "iopub.status.idle": "2021-10-12T19:38:13.921382Z",
     "shell.execute_reply": "2021-10-12T19:38:13.921817Z",
     "shell.execute_reply.started": "2021-10-12T19:37:24.515489Z"
    },
    "papermill": {
     "duration": 1.644367,
     "end_time": "2021-10-12T19:38:13.921983",
     "exception": false,
     "start_time": "2021-10-12T19:38:12.277616",
     "status": "completed"
    },
    "tags": []
   },
   "outputs": [
    {
     "data": {
      "image/png": "[encoded data removed]",
      "text/plain": [
       "<Figure size 1080x576 with 4 Axes>"
      ]
     },
     "metadata": {},
     "output_type": "display_data"
    }
   ],
   "source": [
    "fig, axes = plt.subplots(2, 2, figsize = (15, 8), facecolor = \"#e5e5e5\")\n",
    "axes = axes.ravel()\n",
    "\n",
    "for ax in axes:\n",
    "    ax.set_facecolor(\"#e5e5e5\")\n",
    "\n",
    "sns.histplot(data = df[df.version == \"gate_30\"], x = \"sum_gamerounds\", \n",
    "             ax = axes[0], bins = 100, kde = True).set_title(\"gate 30\")\n",
    "sns.histplot(data = df[df.version == \"gate_40\"], x = \"sum_gamerounds\", \n",
    "             ax = axes[2], bins = 100, kde = True).set_title(\"gate 40\")\n",
    "\n",
    "with warnings.catch_warnings():\n",
    "    \n",
    "    warnings.simplefilter(\"ignore\")\n",
    "    \n",
    "    sm.qqplot(df[df.version == \"gate_30\"].sum_gamerounds, ax = axes[1], \n",
    "              marker = \"x\", line = \"45\", fit = True)\n",
    "    sm.qqplot(df[df.version == \"gate_40\"].sum_gamerounds, ax = axes[3], \n",
    "              marker = \"x\", line = \"45\", fit = True)\n",
    "        \n",
    "axes[1].set_title(\"QQ Plot for gate 30\")\n",
    "axes[3].set_title(\"QQ Plot for gate 40\")\n",
    "\n",
    "plt.tight_layout()\n",
    "plt.show()"
   ]
  },
  {
   "cell_type": "markdown",
   "id": "eb284cf7",
   "metadata": {
    "papermill": {
     "duration": 0.043178,
     "end_time": "2021-10-12T19:38:14.008477",
     "exception": false,
     "start_time": "2021-10-12T19:38:13.965299",
     "status": "completed"
    },
    "tags": []
   },
   "source": [
    "[take me to the top](#section-top)"
   ]
  },
  {
   "cell_type": "markdown",
   "id": "5ad62b38",
   "metadata": {
    "papermill": {
     "duration": 0.042587,
     "end_time": "2021-10-12T19:38:14.095219",
     "exception": false,
     "start_time": "2021-10-12T19:38:14.052632",
     "status": "completed"
    },
    "tags": []
   },
   "source": [
    "<a id=\"section-three-two\"></a>\n",
    "## 3.2 Checking Normality with Statistical Tests"
   ]
  },
  {
   "cell_type": "markdown",
   "id": "6000a88e",
   "metadata": {
    "papermill": {
     "duration": 0.043439,
     "end_time": "2021-10-12T19:38:14.181812",
     "exception": false,
     "start_time": "2021-10-12T19:38:14.138373",
     "status": "completed"
    },
    "tags": []
   },
   "source": [
    "We know, sum_gamerounds variable has right-skewed distribution. It is far away from normality. We know it from kdeplot, histplot and, qq plot. Let's proove it with statistical tests."
   ]
  },
  {
   "cell_type": "markdown",
   "id": "1a03bef4",
   "metadata": {
    "papermill": {
     "duration": 0.044009,
     "end_time": "2021-10-12T19:38:14.269241",
     "exception": false,
     "start_time": "2021-10-12T19:38:14.225232",
     "status": "completed"
    },
    "tags": []
   },
   "source": [
    "I just define below function for checking normality.\n",
    "\n",
    "This function takes a series as input, prints hypothesis, skewness, kurtosis. Applies a normality test for its sample size and prints result.\n",
    "\n",
    "*For N > 5000 the W test statistic is accurate but the p-value may not be.\n",
    "https://docs.scipy.org/doc/scipy/reference/generated/scipy.stats.shapiro.html\n",
    "\n",
    "https://docs.scipy.org/doc/scipy/reference/generated/scipy.stats.normaltest.html"
   ]
  },
  {
   "cell_type": "code",
   "execution_count": 15,
   "id": "854b2222",
   "metadata": {
    "execution": {
     "iopub.execute_input": "2021-10-12T19:38:14.358930Z",
     "iopub.status.busy": "2021-10-12T19:38:14.358275Z",
     "iopub.status.idle": "2021-10-12T19:38:14.364337Z",
     "shell.execute_reply": "2021-10-12T19:38:14.364876Z",
     "shell.execute_reply.started": "2021-10-12T19:37:26.208450Z"
    },
    "papermill": {
     "duration": 0.052525,
     "end_time": "2021-10-12T19:38:14.365039",
     "exception": false,
     "start_time": "2021-10-12T19:38:14.312514",
     "status": "completed"
    },
    "tags": []
   },
   "outputs": [],
   "source": [
    "def check_normality(series, alpha = 0.05):\n",
    "    \n",
    "    print(f\"\\nH0: {series.name} is normally distributed\")\n",
    "    print(f\"H1: {series.name} is not normally distributed \\n\")\n",
    "    print(f\"Skewness for {series.name} is {series.skew().round(3)} \"\n",
    "          f\"and kurtosis is {series.kurtosis().round(3)} \\n\")\n",
    "    \n",
    "    if len(series) <= 5000:\n",
    "        print(\"Performing Shapiro–Wilk test\")\n",
    "        statistic, pvalue = stats.shapiro(series)\n",
    "        \n",
    "        print(f\"Shapiro Test Statistic \\t {round(statistic, 5)}\")\n",
    "        print(f\"p-value \\t {pvalue}\")  \n",
    "        \n",
    "    else:\n",
    "        print(\"Performing D'Agostino's K2 test\")\n",
    "        statistic, pvalue = stats.normaltest(series)\n",
    "        print(f\"Test Statistic \\t {round(statistic, 5)}\")\n",
    "        print(f\"p-value \\t {pvalue}\") \n",
    "        \n",
    "    \n",
    "    if pvalue <= alpha: \n",
    "        print(\"\\nWe can reject null hypothesis, \"\n",
    "              \"so that our series is not normally distributed.\")\n",
    "        \n",
    "    else: \n",
    "        print(\"\\nWe can't reject null hypothesis, \"\n",
    "              \"so that our series is normally distributed.\")\n",
    "        \n",
    "    result = \"Not Normal\"\n",
    "    \n",
    "    return result"
   ]
  },
  {
   "cell_type": "code",
   "execution_count": 16,
   "id": "d6bd7fe5",
   "metadata": {
    "execution": {
     "iopub.execute_input": "2021-10-12T19:38:14.455830Z",
     "iopub.status.busy": "2021-10-12T19:38:14.454829Z",
     "iopub.status.idle": "2021-10-12T19:38:14.467647Z",
     "shell.execute_reply": "2021-10-12T19:38:14.468060Z",
     "shell.execute_reply.started": "2021-10-12T19:37:26.217832Z"
    },
    "papermill": {
     "duration": 0.0599,
     "end_time": "2021-10-12T19:38:14.468224",
     "exception": false,
     "start_time": "2021-10-12T19:38:14.408324",
     "status": "completed"
    },
    "tags": []
   },
   "outputs": [
    {
     "name": "stdout",
     "output_type": "stream",
     "text": [
      "\u001b[1m\n",
      "sum_gamerounds normality for both version: \n",
      "\u001b[0m\n",
      "\n",
      "H0: sum_gamerounds is normally distributed\n",
      "H1: sum_gamerounds is not normally distributed \n",
      "\n",
      "Skewness for sum_gamerounds is 5.954 and kurtosis is 65.267 \n",
      "\n",
      "Performing D'Agostino's K2 test\n",
      "Test Statistic \t 104181.60505\n",
      "p-value \t 0.0\n",
      "\n",
      "We can reject null hypothesis, so that our series is not normally distributed.\n"
     ]
    },
    {
     "data": {
      "text/plain": [
       "'Not Normal'"
      ]
     },
     "execution_count": 16,
     "metadata": {},
     "output_type": "execute_result"
    }
   ],
   "source": [
    "print(\"\\033[1m\\nsum_gamerounds normality for both version: \\n\\033[0m\")\n",
    "\n",
    "check_normality(df[\"sum_gamerounds\"])"
   ]
  },
  {
   "cell_type": "code",
   "execution_count": 17,
   "id": "8e0aeffe",
   "metadata": {
    "execution": {
     "iopub.execute_input": "2021-10-12T19:38:14.567756Z",
     "iopub.status.busy": "2021-10-12T19:38:14.567132Z",
     "iopub.status.idle": "2021-10-12T19:38:14.581516Z",
     "shell.execute_reply": "2021-10-12T19:38:14.581045Z",
     "shell.execute_reply.started": "2021-10-12T19:37:26.238523Z"
    },
    "papermill": {
     "duration": 0.069186,
     "end_time": "2021-10-12T19:38:14.581671",
     "exception": false,
     "start_time": "2021-10-12T19:38:14.512485",
     "status": "completed"
    },
    "tags": []
   },
   "outputs": [],
   "source": [
    "gate30 = df[df.version == \"gate_30\"]\n",
    "gate40 = df[df.version == \"gate_40\"]"
   ]
  },
  {
   "cell_type": "code",
   "execution_count": 18,
   "id": "6f03a17d",
   "metadata": {
    "execution": {
     "iopub.execute_input": "2021-10-12T19:38:14.672642Z",
     "iopub.status.busy": "2021-10-12T19:38:14.672080Z",
     "iopub.status.idle": "2021-10-12T19:38:14.682514Z",
     "shell.execute_reply": "2021-10-12T19:38:14.681976Z",
     "shell.execute_reply.started": "2021-10-12T19:37:26.281336Z"
    },
    "papermill": {
     "duration": 0.056544,
     "end_time": "2021-10-12T19:38:14.682659",
     "exception": false,
     "start_time": "2021-10-12T19:38:14.626115",
     "status": "completed"
    },
    "tags": []
   },
   "outputs": [
    {
     "name": "stdout",
     "output_type": "stream",
     "text": [
      "\u001b[1msum_gamerounds normality for gate 30: \n",
      "\u001b[0m\n",
      "\n",
      "H0: sum_gamerounds is normally distributed\n",
      "H1: sum_gamerounds is not normally distributed \n",
      "\n",
      "Skewness for sum_gamerounds is 5.94 and kurtosis is 67.563 \n",
      "\n",
      "Performing D'Agostino's K2 test\n",
      "Test Statistic \t 51730.04355\n",
      "p-value \t 0.0\n",
      "\n",
      "We can reject null hypothesis, so that our series is not normally distributed.\n"
     ]
    },
    {
     "data": {
      "text/plain": [
       "'Not Normal'"
      ]
     },
     "execution_count": 18,
     "metadata": {},
     "output_type": "execute_result"
    }
   ],
   "source": [
    "print(\"\\033[1msum_gamerounds normality for gate 30: \\n\\033[0m\")\n",
    "\n",
    "check_normality(gate30[\"sum_gamerounds\"])"
   ]
  },
  {
   "cell_type": "code",
   "execution_count": 19,
   "id": "29b36967",
   "metadata": {
    "execution": {
     "iopub.execute_input": "2021-10-12T19:38:14.777314Z",
     "iopub.status.busy": "2021-10-12T19:38:14.776323Z",
     "iopub.status.idle": "2021-10-12T19:38:14.785043Z",
     "shell.execute_reply": "2021-10-12T19:38:14.785426Z",
     "shell.execute_reply.started": "2021-10-12T19:37:26.294752Z"
    },
    "papermill": {
     "duration": 0.058737,
     "end_time": "2021-10-12T19:38:14.785623",
     "exception": false,
     "start_time": "2021-10-12T19:38:14.726886",
     "status": "completed"
    },
    "tags": []
   },
   "outputs": [
    {
     "name": "stdout",
     "output_type": "stream",
     "text": [
      "\u001b[1msum_gamerounds normality for gate 40: \n",
      "\u001b[0m\n",
      "\n",
      "H0: sum_gamerounds is normally distributed\n",
      "H1: sum_gamerounds is not normally distributed \n",
      "\n",
      "Skewness for sum_gamerounds is 5.967 and kurtosis is 63.106 \n",
      "\n",
      "Performing D'Agostino's K2 test\n",
      "Test Statistic \t 52497.05167\n",
      "p-value \t 0.0\n",
      "\n",
      "We can reject null hypothesis, so that our series is not normally distributed.\n"
     ]
    },
    {
     "data": {
      "text/plain": [
       "'Not Normal'"
      ]
     },
     "execution_count": 19,
     "metadata": {},
     "output_type": "execute_result"
    }
   ],
   "source": [
    "print(\"\\033[1msum_gamerounds normality for gate 40: \\n\\033[0m\")\n",
    "\n",
    "check_normality(gate40[\"sum_gamerounds\"])"
   ]
  },
  {
   "cell_type": "markdown",
   "id": "67498775",
   "metadata": {
    "papermill": {
     "duration": 0.045148,
     "end_time": "2021-10-12T19:38:14.876289",
     "exception": false,
     "start_time": "2021-10-12T19:38:14.831141",
     "status": "completed"
    },
    "tags": []
   },
   "source": [
    "[take me to the top](#section-top)"
   ]
  },
  {
   "cell_type": "markdown",
   "id": "78100ea6",
   "metadata": {
    "papermill": {
     "duration": 0.044251,
     "end_time": "2021-10-12T19:38:14.965160",
     "exception": false,
     "start_time": "2021-10-12T19:38:14.920909",
     "status": "completed"
    },
    "tags": []
   },
   "source": [
    "<a id=\"section-four\"></a>\n",
    "\n",
    "# 4. Comparing Groups: sum_gamerounds"
   ]
  },
  {
   "cell_type": "markdown",
   "id": "f3e9f18d",
   "metadata": {
    "papermill": {
     "duration": 0.045711,
     "end_time": "2021-10-12T19:38:15.055968",
     "exception": false,
     "start_time": "2021-10-12T19:38:15.010257",
     "status": "completed"
    },
    "tags": []
   },
   "source": [
    "We don't have normal distributed variable. (Non-Parametric) For that reason, I will apply Mann Whitney U test for comparing our groups.\n",
    "\n",
    "If we have normal distributed variable, we can perform parametric tests. In this problem, it is t-test."
   ]
  },
  {
   "cell_type": "markdown",
   "id": "799cf4a9",
   "metadata": {
    "papermill": {
     "duration": 0.04558,
     "end_time": "2021-10-12T19:38:15.147957",
     "exception": false,
     "start_time": "2021-10-12T19:38:15.102377",
     "status": "completed"
    },
    "tags": []
   },
   "source": [
    "Below function simply, takes two series and performs Mann Whitney U for comparison. It just prints hypothesis, statistics and results."
   ]
  },
  {
   "cell_type": "markdown",
   "id": "c66c2fa0",
   "metadata": {
    "papermill": {
     "duration": 0.045433,
     "end_time": "2021-10-12T19:38:15.239718",
     "exception": false,
     "start_time": "2021-10-12T19:38:15.194285",
     "status": "completed"
    },
    "tags": []
   },
   "source": [
    "**Assumptions for the Mann Whitney U Test**\n",
    "\n",
    "- The dependent variable should be measured on an ordinal scale or a continuous scale.\n",
    "\n",
    "- The independent variable should be two independent, categorical groups.\n",
    "\n",
    "- Observations should be independent. In other words, there should be no relationship between the two groups or within each group.\n",
    "\n",
    "- Observations are not normally distributed. However, they should follow the same shape (i.e. both are bell-shaped and skewed left).\n",
    "\n",
    "*https://www.statisticshowto.com/mann-whitney-u-test/"
   ]
  },
  {
   "cell_type": "code",
   "execution_count": 20,
   "id": "c9857417",
   "metadata": {
    "execution": {
     "iopub.execute_input": "2021-10-12T19:38:15.338980Z",
     "iopub.status.busy": "2021-10-12T19:38:15.338220Z",
     "iopub.status.idle": "2021-10-12T19:38:15.339877Z",
     "shell.execute_reply": "2021-10-12T19:38:15.340312Z",
     "shell.execute_reply.started": "2021-10-12T19:37:26.308305Z"
    },
    "papermill": {
     "duration": 0.053686,
     "end_time": "2021-10-12T19:38:15.340468",
     "exception": false,
     "start_time": "2021-10-12T19:38:15.286782",
     "status": "completed"
    },
    "tags": []
   },
   "outputs": [],
   "source": [
    "def test_mannwhitneyu(series1, series2, alpha = 0.05):\n",
    "    \n",
    "    print(\"H0: Distributions of both populations are equal.\")\n",
    "    print(\"H1: Distributions of both populations are not equal.\\n\")\n",
    "    \n",
    "    statistic, pvalue = stats.mannwhitneyu(series1, series2)\n",
    "    \n",
    "    print(f\"Mann Whitney U test statistic is {statistic.round(5)}\")\n",
    "    print(f\"p-value for Mann Whitney U is {pvalue}\")\n",
    "    \n",
    "    \n",
    "    print(f\"\\nFor alpha = {alpha}\")\n",
    "    \n",
    "    if pvalue <= alpha:\n",
    "        print(\"We can reject null hypothesis. These groups are not similar.\")\n",
    "    else:\n",
    "        print(\"We can not reject null hypothesis. These groups are similar.\")              "
   ]
  },
  {
   "cell_type": "code",
   "execution_count": 21,
   "id": "f20f803a",
   "metadata": {
    "execution": {
     "iopub.execute_input": "2021-10-12T19:38:15.436928Z",
     "iopub.status.busy": "2021-10-12T19:38:15.436303Z",
     "iopub.status.idle": "2021-10-12T19:38:15.502642Z",
     "shell.execute_reply": "2021-10-12T19:38:15.503055Z",
     "shell.execute_reply.started": "2021-10-12T19:37:26.317382Z"
    },
    "papermill": {
     "duration": 0.115447,
     "end_time": "2021-10-12T19:38:15.503233",
     "exception": false,
     "start_time": "2021-10-12T19:38:15.387786",
     "status": "completed"
    },
    "tags": []
   },
   "outputs": [
    {
     "name": "stdout",
     "output_type": "stream",
     "text": [
      "H0: Distributions of both populations are equal.\n",
      "H1: Distributions of both populations are not equal.\n",
      "\n",
      "Mann Whitney U test statistic is 1024285761.5\n",
      "p-value for Mann Whitney U is 0.05089155279145376\n",
      "\n",
      "For alpha = 0.05\n",
      "We can not reject null hypothesis. These groups are similar.\n"
     ]
    }
   ],
   "source": [
    "test_mannwhitneyu(gate30[\"sum_gamerounds\"], gate40[\"sum_gamerounds\"])"
   ]
  },
  {
   "cell_type": "markdown",
   "id": "6e8dd062",
   "metadata": {
    "papermill": {
     "duration": 0.045037,
     "end_time": "2021-10-12T19:38:15.593324",
     "exception": false,
     "start_time": "2021-10-12T19:38:15.548287",
     "status": "completed"
    },
    "tags": []
   },
   "source": [
    "[take me to the top](#section-top)"
   ]
  },
  {
   "cell_type": "markdown",
   "id": "0d5c678c",
   "metadata": {
    "papermill": {
     "duration": 0.044596,
     "end_time": "2021-10-12T19:38:15.682923",
     "exception": false,
     "start_time": "2021-10-12T19:38:15.638327",
     "status": "completed"
    },
    "tags": []
   },
   "source": [
    "<a id=\"section-five\"></a>\n",
    "\n",
    "# 5. Comparing Groups: retention days"
   ]
  },
  {
   "cell_type": "code",
   "execution_count": 22,
   "id": "be9fd461",
   "metadata": {
    "execution": {
     "iopub.execute_input": "2021-10-12T19:38:15.814220Z",
     "iopub.status.busy": "2021-10-12T19:38:15.801411Z",
     "iopub.status.idle": "2021-10-12T19:38:16.035378Z",
     "shell.execute_reply": "2021-10-12T19:38:16.034826Z",
     "shell.execute_reply.started": "2021-10-12T19:37:26.435579Z"
    },
    "papermill": {
     "duration": 0.306833,
     "end_time": "2021-10-12T19:38:16.035518",
     "exception": false,
     "start_time": "2021-10-12T19:38:15.728685",
     "status": "completed"
    },
    "tags": []
   },
   "outputs": [
    {
     "data": {
      "image/png": "[encoded data removed]",
      "text/plain": [
       "<Figure size 1152x432 with 2 Axes>"
      ]
     },
     "metadata": {},
     "output_type": "display_data"
    }
   ],
   "source": [
    "fig, axes = plt.subplots(1, 2, figsize = (16, 6), facecolor = \"#e5e5e5\", sharey = True)\n",
    "\n",
    "sns.countplot(x = \"retention_1\", data = df, hue = \"version\",\n",
    "              ax = axes[0], palette = [\"#0EB8F1\", \"#F1480F\"]).set_title(\"Gate 30\")\n",
    "\n",
    "sns.countplot(x = \"retention_7\", data = df, hue = \"version\",\n",
    "              ax = axes[1], palette = [\"#0EB8F1\", \"#F1480F\"]).set_title(\"Gate 40\")\n",
    "\n",
    "for ax in axes:\n",
    "    \n",
    "    ax.set_facecolor(\"#e5e5e5\")\n",
    "    ax.get_legend().remove()\n",
    "    ax.set_yticks([])\n",
    "    \n",
    "    for p in ax.patches:\n",
    "        \n",
    "        txt = p.get_height()\n",
    "        ax.text(p.get_x() + 0.125, p.get_height()*1.01, txt, fontsize = 10)\n",
    "        \n",
    "axes[1].set_ylabel(\"\")\n",
    "        \n",
    "handles, labels = axes[0].get_legend_handles_labels()\n",
    "fig.legend(handles, labels, loc = \"upper center\")\n",
    "\n",
    "sns.despine(left = True, bottom = True)\n",
    "plt.show()"
   ]
  },
  {
   "cell_type": "markdown",
   "id": "1f78b647",
   "metadata": {
    "papermill": {
     "duration": 0.046125,
     "end_time": "2021-10-12T19:38:16.129086",
     "exception": false,
     "start_time": "2021-10-12T19:38:16.082961",
     "status": "completed"
    },
    "tags": []
   },
   "source": [
    "## Chi-Square Test of Independence"
   ]
  },
  {
   "cell_type": "markdown",
   "id": "6014d3bb",
   "metadata": {
    "papermill": {
     "duration": 0.045362,
     "end_time": "2021-10-12T19:38:16.221051",
     "exception": false,
     "start_time": "2021-10-12T19:38:16.175689",
     "status": "completed"
    },
    "tags": []
   },
   "source": [
    "The Chi-Square Test of Independence determines whether there is an association between categorical variables (i.e., whether the variables are independent or related). It is a nonparametric test.\n",
    "\n",
    "https://libguides.library.kent.edu/spss/chisquare"
   ]
  },
  {
   "cell_type": "markdown",
   "id": "50125365",
   "metadata": {
    "papermill": {
     "duration": 0.045517,
     "end_time": "2021-10-12T19:38:16.313153",
     "exception": false,
     "start_time": "2021-10-12T19:38:16.267636",
     "status": "completed"
    },
    "tags": []
   },
   "source": [
    "**Assumptions**\n",
    "\n",
    "1) Two categorical variables.\n",
    "\n",
    "2) Two or more categories (groups) for each variable.\n",
    "\n",
    "3) Independence of observations.\n",
    "\n",
    "- There is no relationship between the subjects in each group.\n",
    "\n",
    "- The categorical variables are not \"paired\" in any way (e.g. pre-test/post-test observations).\n",
    "\n",
    "4) Relatively large sample size.\n",
    "\n",
    "- Expected frequencies for each cell are at least 1.\n",
    "\n",
    "- Expected frequencies should be at least 5 for the majority (80%) of the cells.\n",
    "\n",
    "https://libguides.library.kent.edu/spss/chisquare"
   ]
  },
  {
   "cell_type": "markdown",
   "id": "e25e5b6b",
   "metadata": {
    "papermill": {
     "duration": 0.045406,
     "end_time": "2021-10-12T19:38:16.405143",
     "exception": false,
     "start_time": "2021-10-12T19:38:16.359737",
     "status": "completed"
    },
    "tags": []
   },
   "source": [
    "For performing Chi-Square test, we need contingency table. Contingency table is simply, tabular representation of categorical variables.\n",
    "\n",
    "In pandas, we can create contingency table with using pd.crosstab."
   ]
  },
  {
   "cell_type": "code",
   "execution_count": 23,
   "id": "bb505987",
   "metadata": {
    "execution": {
     "iopub.execute_input": "2021-10-12T19:38:16.499840Z",
     "iopub.status.busy": "2021-10-12T19:38:16.498959Z",
     "iopub.status.idle": "2021-10-12T19:38:16.532692Z",
     "shell.execute_reply": "2021-10-12T19:38:16.533113Z",
     "shell.execute_reply.started": "2021-10-12T19:37:26.785592Z"
    },
    "papermill": {
     "duration": 0.082357,
     "end_time": "2021-10-12T19:38:16.533267",
     "exception": false,
     "start_time": "2021-10-12T19:38:16.450910",
     "status": "completed"
    },
    "tags": []
   },
   "outputs": [
    {
     "data": {
      "text/html": [
       "<div>\n",
       "<style scoped>\n",
       "    .dataframe tbody tr th:only-of-type {\n",
       "        vertical-align: middle;\n",
       "    }\n",
       "\n",
       "    .dataframe tbody tr th {\n",
       "        vertical-align: top;\n",
       "    }\n",
       "\n",
       "    .dataframe thead th {\n",
       "        text-align: right;\n",
       "    }\n",
       "</style>\n",
       "<table border=\"1\" class=\"dataframe\">\n",
       "  <thead>\n",
       "    <tr style=\"text-align: right;\">\n",
       "      <th>retention_1</th>\n",
       "      <th>False</th>\n",
       "      <th>True</th>\n",
       "    </tr>\n",
       "    <tr>\n",
       "      <th>version</th>\n",
       "      <th></th>\n",
       "      <th></th>\n",
       "    </tr>\n",
       "  </thead>\n",
       "  <tbody>\n",
       "    <tr>\n",
       "      <th>gate_30</th>\n",
       "      <td>24665</td>\n",
       "      <td>20034</td>\n",
       "    </tr>\n",
       "    <tr>\n",
       "      <th>gate_40</th>\n",
       "      <td>25370</td>\n",
       "      <td>20119</td>\n",
       "    </tr>\n",
       "  </tbody>\n",
       "</table>\n",
       "</div>"
      ],
      "text/plain": [
       "retention_1  False   True\n",
       "version                  \n",
       "gate_30      24665  20034\n",
       "gate_40      25370  20119"
      ]
     },
     "execution_count": 23,
     "metadata": {},
     "output_type": "execute_result"
    }
   ],
   "source": [
    "cross1 = pd.crosstab(df[\"version\"], df[\"retention_1\"])\n",
    "cross1"
   ]
  },
  {
   "cell_type": "code",
   "execution_count": 24,
   "id": "da9d9321",
   "metadata": {
    "execution": {
     "iopub.execute_input": "2021-10-12T19:38:16.628588Z",
     "iopub.status.busy": "2021-10-12T19:38:16.628006Z",
     "iopub.status.idle": "2021-10-12T19:38:16.659170Z",
     "shell.execute_reply": "2021-10-12T19:38:16.659631Z",
     "shell.execute_reply.started": "2021-10-12T19:37:26.827409Z"
    },
    "papermill": {
     "duration": 0.080163,
     "end_time": "2021-10-12T19:38:16.659796",
     "exception": false,
     "start_time": "2021-10-12T19:38:16.579633",
     "status": "completed"
    },
    "tags": []
   },
   "outputs": [
    {
     "data": {
      "text/html": [
       "<div>\n",
       "<style scoped>\n",
       "    .dataframe tbody tr th:only-of-type {\n",
       "        vertical-align: middle;\n",
       "    }\n",
       "\n",
       "    .dataframe tbody tr th {\n",
       "        vertical-align: top;\n",
       "    }\n",
       "\n",
       "    .dataframe thead th {\n",
       "        text-align: right;\n",
       "    }\n",
       "</style>\n",
       "<table border=\"1\" class=\"dataframe\">\n",
       "  <thead>\n",
       "    <tr style=\"text-align: right;\">\n",
       "      <th>retention_7</th>\n",
       "      <th>False</th>\n",
       "      <th>True</th>\n",
       "    </tr>\n",
       "    <tr>\n",
       "      <th>version</th>\n",
       "      <th></th>\n",
       "      <th></th>\n",
       "    </tr>\n",
       "  </thead>\n",
       "  <tbody>\n",
       "    <tr>\n",
       "      <th>gate_30</th>\n",
       "      <td>36198</td>\n",
       "      <td>8501</td>\n",
       "    </tr>\n",
       "    <tr>\n",
       "      <th>gate_40</th>\n",
       "      <td>37210</td>\n",
       "      <td>8279</td>\n",
       "    </tr>\n",
       "  </tbody>\n",
       "</table>\n",
       "</div>"
      ],
      "text/plain": [
       "retention_7  False  True\n",
       "version                 \n",
       "gate_30      36198  8501\n",
       "gate_40      37210  8279"
      ]
     },
     "execution_count": 24,
     "metadata": {},
     "output_type": "execute_result"
    }
   ],
   "source": [
    "cross7 = pd.crosstab(df[\"version\"], df[\"retention_7\"])\n",
    "cross7"
   ]
  },
  {
   "cell_type": "markdown",
   "id": "6df22da5",
   "metadata": {
    "papermill": {
     "duration": 0.045702,
     "end_time": "2021-10-12T19:38:16.752048",
     "exception": false,
     "start_time": "2021-10-12T19:38:16.706346",
     "status": "completed"
    },
    "tags": []
   },
   "source": [
    "I define a simple function for chi2 test. This function takes contingency table as input, prints hypothesis, test statistics and returns its result."
   ]
  },
  {
   "cell_type": "code",
   "execution_count": 25,
   "id": "6bab1c7b",
   "metadata": {
    "execution": {
     "iopub.execute_input": "2021-10-12T19:38:16.847498Z",
     "iopub.status.busy": "2021-10-12T19:38:16.846933Z",
     "iopub.status.idle": "2021-10-12T19:38:16.852534Z",
     "shell.execute_reply": "2021-10-12T19:38:16.853046Z",
     "shell.execute_reply.started": "2021-10-12T19:37:26.862286Z"
    },
    "papermill": {
     "duration": 0.054994,
     "end_time": "2021-10-12T19:38:16.853205",
     "exception": false,
     "start_time": "2021-10-12T19:38:16.798211",
     "status": "completed"
    },
    "tags": []
   },
   "outputs": [],
   "source": [
    "def test_chi2(crosstable, alpha = 0.05):\n",
    "    \n",
    "    print(\"H0: Variable 1 and Variable 2 are independent. \"\n",
    "          \"Version and retention day are independent.\")\n",
    "    print(\"H1: Variable 1 and Variable 2 are dependent. \"\n",
    "          \"Version and retention day are dependent. \\n\")\n",
    "    \n",
    "    chi2, p, dof, expected = stats.chi2_contingency(crosstable, correction = False)\n",
    "    chi2, p, dof, expected \n",
    "    \n",
    "    print(\"Observed frequencies: \")\n",
    "    display(crosstable)\n",
    "    \n",
    "    print(f\"Chi-square test statistic is {chi2}\")\n",
    "    print(f\"p value for test is {p}\")\n",
    "    print(f\"Degrees of freedom (num rows - 1) * (num columns - 1) is {dof}\")\n",
    "    \n",
    "    print(f\"\\nExpected frequencies: \")\n",
    "    display(pd.DataFrame(expected, index = [\"gate_30\", \"gate_40\"]))\n",
    "    \n",
    "    if p <= alpha:\n",
    "        print(f\"\\nWe can reject null hypothesis for {alpha} significance level. \" \n",
    "              \"There is a statistically significant relation between version and retention.\")\n",
    "    else:\n",
    "        print(f\"\\nWe can not reject null hypothesis for {alpha} significance level. \"\n",
    "              \"There is no statistically significant relation between version and retention.\")"
   ]
  },
  {
   "cell_type": "code",
   "execution_count": 26,
   "id": "2ecb04f5",
   "metadata": {
    "execution": {
     "iopub.execute_input": "2021-10-12T19:38:16.956920Z",
     "iopub.status.busy": "2021-10-12T19:38:16.951580Z",
     "iopub.status.idle": "2021-10-12T19:38:16.968228Z",
     "shell.execute_reply": "2021-10-12T19:38:16.967772Z",
     "shell.execute_reply.started": "2021-10-12T19:37:26.871461Z"
    },
    "papermill": {
     "duration": 0.067824,
     "end_time": "2021-10-12T19:38:16.968355",
     "exception": false,
     "start_time": "2021-10-12T19:38:16.900531",
     "status": "completed"
    },
    "tags": []
   },
   "outputs": [
    {
     "name": "stdout",
     "output_type": "stream",
     "text": [
      "\u001b[1mChi-sqaure test for version and retention_1\u001b[0m:\n",
      "\n",
      "H0: Variable 1 and Variable 2 are independent. Version and retention day are independent.\n",
      "H1: Variable 1 and Variable 2 are dependent. Version and retention day are dependent. \n",
      "\n",
      "Observed frequencies: \n"
     ]
    },
    {
     "data": {
      "text/html": [
       "<div>\n",
       "<style scoped>\n",
       "    .dataframe tbody tr th:only-of-type {\n",
       "        vertical-align: middle;\n",
       "    }\n",
       "\n",
       "    .dataframe tbody tr th {\n",
       "        vertical-align: top;\n",
       "    }\n",
       "\n",
       "    .dataframe thead th {\n",
       "        text-align: right;\n",
       "    }\n",
       "</style>\n",
       "<table border=\"1\" class=\"dataframe\">\n",
       "  <thead>\n",
       "    <tr style=\"text-align: right;\">\n",
       "      <th>retention_1</th>\n",
       "      <th>False</th>\n",
       "      <th>True</th>\n",
       "    </tr>\n",
       "    <tr>\n",
       "      <th>version</th>\n",
       "      <th></th>\n",
       "      <th></th>\n",
       "    </tr>\n",
       "  </thead>\n",
       "  <tbody>\n",
       "    <tr>\n",
       "      <th>gate_30</th>\n",
       "      <td>24665</td>\n",
       "      <td>20034</td>\n",
       "    </tr>\n",
       "    <tr>\n",
       "      <th>gate_40</th>\n",
       "      <td>25370</td>\n",
       "      <td>20119</td>\n",
       "    </tr>\n",
       "  </tbody>\n",
       "</table>\n",
       "</div>"
      ],
      "text/plain": [
       "retention_1  False   True\n",
       "version                  \n",
       "gate_30      24665  20034\n",
       "gate_40      25370  20119"
      ]
     },
     "metadata": {},
     "output_type": "display_data"
    },
    {
     "name": "stdout",
     "output_type": "stream",
     "text": [
      "Chi-square test statistic is 3.19373895460949\n",
      "p value for test is 0.07392076034183397\n",
      "Degrees of freedom (num rows - 1) * (num columns - 1) is 1\n",
      "\n",
      "Expected frequencies: \n"
     ]
    },
    {
     "data": {
      "text/html": [
       "<div>\n",
       "<style scoped>\n",
       "    .dataframe tbody tr th:only-of-type {\n",
       "        vertical-align: middle;\n",
       "    }\n",
       "\n",
       "    .dataframe tbody tr th {\n",
       "        vertical-align: top;\n",
       "    }\n",
       "\n",
       "    .dataframe thead th {\n",
       "        text-align: right;\n",
       "    }\n",
       "</style>\n",
       "<table border=\"1\" class=\"dataframe\">\n",
       "  <thead>\n",
       "    <tr style=\"text-align: right;\">\n",
       "      <th></th>\n",
       "      <th>0</th>\n",
       "      <th>1</th>\n",
       "    </tr>\n",
       "  </thead>\n",
       "  <tbody>\n",
       "    <tr>\n",
       "      <th>gate_30</th>\n",
       "      <td>24798.359704</td>\n",
       "      <td>19900.640296</td>\n",
       "    </tr>\n",
       "    <tr>\n",
       "      <th>gate_40</th>\n",
       "      <td>25236.640296</td>\n",
       "      <td>20252.359704</td>\n",
       "    </tr>\n",
       "  </tbody>\n",
       "</table>\n",
       "</div>"
      ],
      "text/plain": [
       "                    0             1\n",
       "gate_30  24798.359704  19900.640296\n",
       "gate_40  25236.640296  20252.359704"
      ]
     },
     "metadata": {},
     "output_type": "display_data"
    },
    {
     "name": "stdout",
     "output_type": "stream",
     "text": [
      "\n",
      "We can not reject null hypothesis for 0.05 significance level. There is no statistically significant relation between version and retention.\n"
     ]
    }
   ],
   "source": [
    "print(\"\\033[1mChi-sqaure test for version and retention_1\\033[0m:\\n\")\n",
    "test_chi2(cross1)"
   ]
  },
  {
   "cell_type": "code",
   "execution_count": 27,
   "id": "ea7f0d4a",
   "metadata": {
    "execution": {
     "iopub.execute_input": "2021-10-12T19:38:17.073312Z",
     "iopub.status.busy": "2021-10-12T19:38:17.072328Z",
     "iopub.status.idle": "2021-10-12T19:38:17.083341Z",
     "shell.execute_reply": "2021-10-12T19:38:17.084125Z",
     "shell.execute_reply.started": "2021-10-12T19:37:26.896301Z"
    },
    "papermill": {
     "duration": 0.067629,
     "end_time": "2021-10-12T19:38:17.084334",
     "exception": false,
     "start_time": "2021-10-12T19:38:17.016705",
     "status": "completed"
    },
    "tags": []
   },
   "outputs": [
    {
     "name": "stdout",
     "output_type": "stream",
     "text": [
      "\u001b[1mChi-sqaure test for version and retention_7\u001b[0m \n",
      "\n",
      "H0: Variable 1 and Variable 2 are independent. Version and retention day are independent.\n",
      "H1: Variable 1 and Variable 2 are dependent. Version and retention day are dependent. \n",
      "\n",
      "Observed frequencies: \n"
     ]
    },
    {
     "data": {
      "text/html": [
       "<div>\n",
       "<style scoped>\n",
       "    .dataframe tbody tr th:only-of-type {\n",
       "        vertical-align: middle;\n",
       "    }\n",
       "\n",
       "    .dataframe tbody tr th {\n",
       "        vertical-align: top;\n",
       "    }\n",
       "\n",
       "    .dataframe thead th {\n",
       "        text-align: right;\n",
       "    }\n",
       "</style>\n",
       "<table border=\"1\" class=\"dataframe\">\n",
       "  <thead>\n",
       "    <tr style=\"text-align: right;\">\n",
       "      <th>retention_7</th>\n",
       "      <th>False</th>\n",
       "      <th>True</th>\n",
       "    </tr>\n",
       "    <tr>\n",
       "      <th>version</th>\n",
       "      <th></th>\n",
       "      <th></th>\n",
       "    </tr>\n",
       "  </thead>\n",
       "  <tbody>\n",
       "    <tr>\n",
       "      <th>gate_30</th>\n",
       "      <td>36198</td>\n",
       "      <td>8501</td>\n",
       "    </tr>\n",
       "    <tr>\n",
       "      <th>gate_40</th>\n",
       "      <td>37210</td>\n",
       "      <td>8279</td>\n",
       "    </tr>\n",
       "  </tbody>\n",
       "</table>\n",
       "</div>"
      ],
      "text/plain": [
       "retention_7  False  True\n",
       "version                 \n",
       "gate_30      36198  8501\n",
       "gate_40      37210  8279"
      ]
     },
     "metadata": {},
     "output_type": "display_data"
    },
    {
     "name": "stdout",
     "output_type": "stream",
     "text": [
      "Chi-square test statistic is 9.96923845042939\n",
      "p value for test is 0.0015917731773992998\n",
      "Degrees of freedom (num rows - 1) * (num columns - 1) is 1\n",
      "\n",
      "Expected frequencies: \n"
     ]
    },
    {
     "data": {
      "text/html": [
       "<div>\n",
       "<style scoped>\n",
       "    .dataframe tbody tr th:only-of-type {\n",
       "        vertical-align: middle;\n",
       "    }\n",
       "\n",
       "    .dataframe tbody tr th {\n",
       "        vertical-align: top;\n",
       "    }\n",
       "\n",
       "    .dataframe thead th {\n",
       "        text-align: right;\n",
       "    }\n",
       "</style>\n",
       "<table border=\"1\" class=\"dataframe\">\n",
       "  <thead>\n",
       "    <tr style=\"text-align: right;\">\n",
       "      <th></th>\n",
       "      <th>0</th>\n",
       "      <th>1</th>\n",
       "    </tr>\n",
       "  </thead>\n",
       "  <tbody>\n",
       "    <tr>\n",
       "      <th>gate_30</th>\n",
       "      <td>36382.492039</td>\n",
       "      <td>8316.507961</td>\n",
       "    </tr>\n",
       "    <tr>\n",
       "      <th>gate_40</th>\n",
       "      <td>37025.507961</td>\n",
       "      <td>8463.492039</td>\n",
       "    </tr>\n",
       "  </tbody>\n",
       "</table>\n",
       "</div>"
      ],
      "text/plain": [
       "                    0            1\n",
       "gate_30  36382.492039  8316.507961\n",
       "gate_40  37025.507961  8463.492039"
      ]
     },
     "metadata": {},
     "output_type": "display_data"
    },
    {
     "name": "stdout",
     "output_type": "stream",
     "text": [
      "\n",
      "We can reject null hypothesis for 0.05 significance level. There is a statistically significant relation between version and retention.\n"
     ]
    }
   ],
   "source": [
    "print(\"\\033[1mChi-sqaure test for version and retention_7\\033[0m \\n\")\n",
    "test_chi2(cross7)"
   ]
  },
  {
   "cell_type": "markdown",
   "id": "1d2963ef",
   "metadata": {
    "papermill": {
     "duration": 0.050414,
     "end_time": "2021-10-12T19:38:17.185162",
     "exception": false,
     "start_time": "2021-10-12T19:38:17.134748",
     "status": "completed"
    },
    "tags": []
   },
   "source": [
    "[take me to the top](#section-top)"
   ]
  },
  {
   "cell_type": "markdown",
   "id": "3f34b3d3",
   "metadata": {
    "papermill": {
     "duration": 0.051304,
     "end_time": "2021-10-12T19:38:17.286621",
     "exception": false,
     "start_time": "2021-10-12T19:38:17.235317",
     "status": "completed"
    },
    "tags": []
   },
   "source": [
    "<a id=\"section-five-one\"></a>\n",
    "\n",
    "## 5.1 Chi-Square Tests Results"
   ]
  },
  {
   "cell_type": "markdown",
   "id": "3cf37873",
   "metadata": {
    "papermill": {
     "duration": 0.050512,
     "end_time": "2021-10-12T19:38:17.388727",
     "exception": false,
     "start_time": "2021-10-12T19:38:17.338215",
     "status": "completed"
    },
    "tags": []
   },
   "source": [
    "First, we compare version and one day retention (retention_1). For Chi-Square independence test, our p-value is 0.07.\n",
    "\n",
    "We can say that, for 0.05 alpha, there is no statistically significant relation between version and one day retention."
   ]
  },
  {
   "cell_type": "markdown",
   "id": "dc9b02ff",
   "metadata": {
    "papermill": {
     "duration": 0.050751,
     "end_time": "2021-10-12T19:38:17.490435",
     "exception": false,
     "start_time": "2021-10-12T19:38:17.439684",
     "status": "completed"
    },
    "tags": []
   },
   "source": [
    "Secondly, we compare version and seven day retention (retention_7). For Chi-Squre independence test, our p-value is 0.001.\n",
    "\n",
    "We can say that, for 0.05 alpha, there is a statistically significant relation between version and seven day retention."
   ]
  },
  {
   "cell_type": "markdown",
   "id": "8975c8ca",
   "metadata": {
    "papermill": {
     "duration": 0.050431,
     "end_time": "2021-10-12T19:38:17.591724",
     "exception": false,
     "start_time": "2021-10-12T19:38:17.541293",
     "status": "completed"
    },
    "tags": []
   },
   "source": [
    "[take me to the top](#section-top)"
   ]
  },
  {
   "cell_type": "markdown",
   "id": "a0313ec4",
   "metadata": {
    "papermill": {
     "duration": 0.050721,
     "end_time": "2021-10-12T19:38:17.693147",
     "exception": false,
     "start_time": "2021-10-12T19:38:17.642426",
     "status": "completed"
    },
    "tags": []
   },
   "source": [
    "<a id=\"section-six\"></a>\n",
    "\n",
    "# 6. Conclusion"
   ]
  },
  {
   "cell_type": "markdown",
   "id": "bc7a489e",
   "metadata": {
    "papermill": {
     "duration": 0.049631,
     "end_time": "2021-10-12T19:38:17.795795",
     "exception": false,
     "start_time": "2021-10-12T19:38:17.746164",
     "status": "completed"
    },
    "tags": []
   },
   "source": [
    "If we need to summarise briefly;\n",
    "\n",
    "We apply **Mann Whitney U** test for comparing sum_gamerounds for both version. \n",
    "\n",
    "For Mann Whitney U test, we don't have statistically significant difference between groups. They have similar sum_gamerounds.\n",
    "\n",
    "\n",
    "For retention days,\n",
    "\n",
    "We apply **Chi-Square Independence test** for comparing the relation between version and retention day.\n",
    "\n",
    "For Chi-Square test; there is no statistically significant relation between one day retention and mobile game version.\n",
    "\n",
    "But, there is a statistically significant relation between seven day retention and mobile game version."
   ]
  },
  {
   "cell_type": "code",
   "execution_count": 28,
   "id": "91a09409",
   "metadata": {
    "execution": {
     "iopub.execute_input": "2021-10-12T19:38:17.904290Z",
     "iopub.status.busy": "2021-10-12T19:38:17.903672Z",
     "iopub.status.idle": "2021-10-12T19:38:17.924694Z",
     "shell.execute_reply": "2021-10-12T19:38:17.924184Z",
     "shell.execute_reply.started": "2021-10-12T19:37:27.069894Z"
    },
    "papermill": {
     "duration": 0.078956,
     "end_time": "2021-10-12T19:38:17.924834",
     "exception": false,
     "start_time": "2021-10-12T19:38:17.845878",
     "status": "completed"
    },
    "tags": []
   },
   "outputs": [
    {
     "data": {
      "text/html": [
       "<div>\n",
       "<style scoped>\n",
       "    .dataframe tbody tr th:only-of-type {\n",
       "        vertical-align: middle;\n",
       "    }\n",
       "\n",
       "    .dataframe tbody tr th {\n",
       "        vertical-align: top;\n",
       "    }\n",
       "\n",
       "    .dataframe thead th {\n",
       "        text-align: right;\n",
       "    }\n",
       "</style>\n",
       "<table border=\"1\" class=\"dataframe\">\n",
       "  <thead>\n",
       "    <tr style=\"text-align: right;\">\n",
       "      <th></th>\n",
       "      <th>sum_gamerounds</th>\n",
       "      <th>retention_1</th>\n",
       "      <th>retention_7</th>\n",
       "    </tr>\n",
       "    <tr>\n",
       "      <th>version</th>\n",
       "      <th></th>\n",
       "      <th></th>\n",
       "      <th></th>\n",
       "    </tr>\n",
       "  </thead>\n",
       "  <tbody>\n",
       "    <tr>\n",
       "      <th>gate_30</th>\n",
       "      <td>51.342111</td>\n",
       "      <td>0.448198</td>\n",
       "      <td>0.190183</td>\n",
       "    </tr>\n",
       "    <tr>\n",
       "      <th>gate_40</th>\n",
       "      <td>51.298776</td>\n",
       "      <td>0.442283</td>\n",
       "      <td>0.182000</td>\n",
       "    </tr>\n",
       "  </tbody>\n",
       "</table>\n",
       "</div>"
      ],
      "text/plain": [
       "         sum_gamerounds  retention_1  retention_7\n",
       "version                                          \n",
       "gate_30       51.342111     0.448198     0.190183\n",
       "gate_40       51.298776     0.442283     0.182000"
      ]
     },
     "execution_count": 28,
     "metadata": {},
     "output_type": "execute_result"
    }
   ],
   "source": [
    "df.groupby(\"version\")[[\"sum_gamerounds\", \"retention_1\", \"retention_7\"]].mean()"
   ]
  },
  {
   "cell_type": "markdown",
   "id": "10b3eac2",
   "metadata": {
    "papermill": {
     "duration": 0.050523,
     "end_time": "2021-10-12T19:38:18.026807",
     "exception": false,
     "start_time": "2021-10-12T19:38:17.976284",
     "status": "completed"
    },
    "tags": []
   },
   "source": [
    "[take me to the top](#section-top)"
   ]
  }
 ],
 "metadata": {
  "kernelspec": {
   "display_name": "Python 3",
   "language": "python",
   "name": "python3"
  },
  "language_info": {
   "codemirror_mode": {
    "name": "ipython",
    "version": 3
   },
   "file_extension": ".py",
   "mimetype": "text/x-python",
   "name": "python",
   "nbconvert_exporter": "python",
   "pygments_lexer": "ipython3",
   "version": "3.7.10"
  },
  "papermill": {
   "default_parameters": {},
   "duration": 21.80433,
   "end_time": "2021-10-12T19:38:19.274894",
   "environment_variables": {},
   "exception": null,
   "input_path": "__notebook__.ipynb",
   "output_path": "__notebook__.ipynb",
   "parameters": {},
   "start_time": "2021-10-12T19:37:57.470564",
   "version": "2.3.3"
  }
 },
 "nbformat": 4,
 "nbformat_minor": 5
}
